{
 "cells": [
  {
   "cell_type": "markdown",
   "metadata": {},
   "source": [
    "### Bibliotecas\n",
    "1. [Selenium](https://selenium-python.readthedocs.io/#) - Selenium automates browsers. That's it! What you do with that power is entirely up to you. - `pip3 install selenium`"
   ]
  },
  {
   "cell_type": "code",
   "execution_count": 69,
   "metadata": {},
   "outputs": [],
   "source": [
    "from selenium import webdriver\n",
    "from selenium.webdriver.firefox.options import Options\n",
    "from selenium.webdriver.common.keys import Keys\n",
    "from selenium.webdriver.support.ui import WebDriverWait\n",
    "from selenium.webdriver.support import expected_conditions as EC\n",
    "from selenium.webdriver.common.by import By\n",
    "from PIL import Image\n",
    "from io import BytesIO"
   ]
  },
  {
   "cell_type": "markdown",
   "metadata": {},
   "source": [
    "### Configuração\n",
    "##### Baixar e instalar drivers para cada navegador:\n",
    "* [Firefox - geckodriver](https://github.com/mozilla/geckodriver/releases/tag/v0.26.0)\n",
    "* [Chrome - chromedriver](https://chromedriver.storage.googleapis.com/index.html?path=80.0.3987.16/)\n",
    "\n",
    "##### Copiar o(s) arquivo(s) para PATH (/usr/bin ou /usr/local/bin)\n",
    "* No caso de ignorar esse passo o seguinte erro surge: `selenium.common.exceptions.WebDriverException: Message: ‘geckodriver’ executable needs to be in PATH.`"
   ]
  },
  {
   "cell_type": "markdown",
   "metadata": {},
   "source": [
    "### Explicit Waits\n",
    "\n",
    "garante que determinado elemento foi carregado no DOM antes de iniciar o scrapping"
   ]
  },
  {
   "cell_type": "code",
   "execution_count": 70,
   "metadata": {},
   "outputs": [],
   "source": [
    "# Variables\n",
    "url = \"\"\n",
    "number_of_pages = 10\n",
    "output_directory = \"\""
   ]
  },
  {
   "cell_type": "code",
   "execution_count": 71,
   "metadata": {},
   "outputs": [],
   "source": [
    "opt = Options()\n",
    "opt.add_argument(\"--headless\")\n",
    "opt.add_argument(\"--disable-gpu\")\n",
    "opt.add_argument(\"--disable-dev-shm-usage\")\n",
    "opt.add_argument(\"--no-sandbox\")\n",
    "browser = webdriver.Firefox(options=opt)"
   ]
  },
  {
   "cell_type": "code",
   "execution_count": 72,
   "metadata": {},
   "outputs": [],
   "source": [
    "delay = 5 #segundos\n",
    "def downloadPage(url, index):\n",
    "    numPage = format(index, 'x')\n",
    "    string_index = \"bg\" + str(numPage) + \".png\"\n",
    "    full_url = url + string_index\n",
    "    try:\n",
    "        browser.get(full_url)\n",
    "        loaded = WebDriverWait(browser, delay).until(EC.presence_of_element_located((By.TAG_NAME, \"img\")))\n",
    "        imgPage = browser.find_element_by_tag_name(\"img\")\n",
    "        location = imgPage.location\n",
    "        size = imgPage.size\n",
    "        png = browser.get_screenshot_as_png()\n",
    "        x = location[\"x\"]\n",
    "        y = location[\"y\"]\n",
    "        width = location[\"x\"]+size[\"width\"]\n",
    "        height = location[\"y\"]+size[\"height\"]\n",
    "        im = Image.open(BytesIO(png))\n",
    "        im = im.crop((int(x), int(y), int(width), int(height)))\n",
    "        im.save(output_directory+str(index), \"PNG\")\n",
    "        print(\"Page \" + str(index) + \" Downloaded!\")\n",
    "    except TimeoutException:\n",
    "        print(\"Loading timeout\")"
   ]
  },
  {
   "cell_type": "code",
   "execution_count": 73,
   "metadata": {},
   "outputs": [
    {
     "name": "stdout",
     "output_type": "stream",
     "text": [
      "Page 1 Downloaded!\n",
      "Page 2 Downloaded!\n",
      "Page 3 Downloaded!\n",
      "Page 4 Downloaded!\n",
      "Page 5 Downloaded!\n",
      "Pages Downloaded Successfully!\n"
     ]
    }
   ],
   "source": [
    "for x in range(number_of_pages):\n",
    "  downloadPage(url, x+1)\n",
    "print(\"Pages Downloaded Successfully!\")\n",
    "browser.quit()"
   ]
  }
 ],
 "metadata": {
  "kernelspec": {
   "display_name": "Python 3",
   "language": "python",
   "name": "python3"
  },
  "language_info": {
   "codemirror_mode": {
    "name": "ipython",
    "version": 3
   },
   "file_extension": ".py",
   "mimetype": "text/x-python",
   "name": "python",
   "nbconvert_exporter": "python",
   "pygments_lexer": "ipython3",
   "version": "3.8.2"
  }
 },
 "nbformat": 4,
 "nbformat_minor": 4
}
